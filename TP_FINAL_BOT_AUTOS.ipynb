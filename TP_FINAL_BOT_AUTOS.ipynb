{
  "nbformat": 4,
  "nbformat_minor": 0,
  "metadata": {
    "colab": {
      "provenance": [],
      "authorship_tag": "ABX9TyPCXO6LromxJaC+Q/J6rfRL",
      "include_colab_link": true
    },
    "kernelspec": {
      "name": "python3",
      "display_name": "Python 3"
    },
    "language_info": {
      "name": "python"
    }
  },
  "cells": [
    {
      "cell_type": "markdown",
      "metadata": {
        "id": "view-in-github",
        "colab_type": "text"
      },
      "source": [
        "<a href=\"https://colab.research.google.com/github/FacundoPeraltaa/Ejercicio1DeFacundoPeralta/blob/master/TP_FINAL_BOT_AUTOS.ipynb\" target=\"_parent\"><img src=\"https://colab.research.google.com/assets/colab-badge.svg\" alt=\"Open In Colab\"/></a>"
      ]
    },
    {
      "cell_type": "code",
      "execution_count": null,
      "metadata": {
        "id": "4y_S3XZiBfuX"
      },
      "outputs": [],
      "source": [
        "# ULTIMO CODIGO\n",
        "#ESTE VAMOS A HACER - CODIGO FINAL\n",
        "# Datos de autos en stock\n",
        "autos_nuevos = {\n",
        "    1: {\"marca\": \"Chevrolet\",\"modelo\": \"Cruze\", \"año\": 2023, \"km\": 0, \"tipo\": \"auto\",\"precio\":\"$ 14.980.000\"},\n",
        "    2: {\"marca\": \"Ford\",\"modelo\": \"Focus\", \"año\": 2023, \"km\": 0, \"tipo\": \"auto\", \"precio\":\"$ 12.500.000\"},\n",
        "    3: {\"marca\": \"Dodge\",\"modelo\": \"RAM\", \"año\": 2023, \"km\": 0, \"tipo\": \"camioneta\",\"precio\":\"U$S 119.000\"},\n",
        "    4: {\"marca\": \"Nissan\",\"modelo\": \"Frontier\", \"año\": 2023, \"km\": 0, \"tipo\": \"camioneta\",\"precio\":\"$ 28.259.999\"},\n",
        "    5: {\"marca\": \"Honda\",\"modelo\": \"Titan\", \"año\": 2023, \"km\": 0, \"tipo\": \"moto\",\"precio\":\"$ 1.819.000\"},\n",
        "    6: {\"marca\": \"Yamaha\",\"modelo\": \"Crypto\", \"año\": 2023, \"km\": 0, \"tipo\": \"moto\",\"precio\":\"$ 1.250.000\"},\n",
        "}\n",
        "nombre_autos = [\"\", \"Chevrolet Cruze, 2023\", \"Ford Focus, 2023\", \"Dodge RAM, 2023\", \"Nissan Frontier, 2023\", \"Honda Titan, 2023\", \"Yamaha Crypto, 2023\"]\n",
        "nombre_autos_usados = [\"\", \"Volkswagen Gol, 2008\",\"Chevrolet Corsa, 2013\", \"Ford Ranger, 2016 \", \"Toyota Hylux, 2010\", \"Honda Titan, 2013\", \"Honda Wave, 2009\"]\n",
        "\n",
        "autos_usados = {\n",
        "    1: {\"marca\": \"Volkswagen\", \"modelo\": \"Gol power\", \"año\": 2008, \"km\": 150000, \"tipo\": \"auto\",\"precio\":\"$ 3.500.000\"},\n",
        "    2: {\"marca\": \"chevrolet\", \"modelo\": \"Corsa\", \"año\": 2013, \"km\": 110000, \"tipo\": \"auto\",\"precio\":\"$ 5.625.000\"},\n",
        "    3: {\"marca\": \"Ford\", \"modelo\": \"Ranger\", \"año\": 2016, \"km\": 95000, \"tipo\": \"camioneta\",\"precio\":\"$ 16.000.000\"},\n",
        "    4: {\"marca\": \"Toyota\", \"modelo\": \"Hylux\", \"año\": 2010, \"km\": 200000, \"tipo\": \"camioneta\",\"precio\":\"$ 12.500.000\"},\n",
        "    5: {\"marca\": \"Honda\", \"modelo\": \"Titan\", \"año\": 2013, \"km\": 69.000, \"tipo\": \"moto\",\"precio\":\"$ 1.000.000\"},\n",
        "    6: {\"marca\": \"Honda\", \"modelo\": \"Wave\", \"año\": 2009, \"km\": 100.000, \"tipo\": \"moto\",\"precio\":\"$ 1.400.000\"},\n",
        "}\n",
        "\n",
        "nombre_usuario = input(\"Hola, ¿Cuál es tu nombre?: \")\n",
        "\n",
        "print(f\"Bienvenido {nombre_usuario} al concesionario\")\n",
        "while True:\n",
        "    compra = input(\"¿Deseas comprar autos nuevos o usados? (nuevos/usados/salir): \")\n",
        "    if compra == 'nuevos':\n",
        "        print(\"Opciones disponibles de autos nuevos:\")\n",
        "        for auto_id, auto_info in autos_nuevos.items():\n",
        "            print(f\"{auto_id}: {auto_info['marca']} {auto_info['modelo']} - Año {auto_info['año']} - {auto_info['km']} km - Tipo: {auto_info['tipo']} - Precio: {auto_info['precio']}\")\n",
        "        eleccion = int(input(\"Elige el número del Vehículos que deseas comprar o ingrea 0 para regresar al menú de compra: \"))\n",
        "        if eleccion in (1, 2, 3, 4, 5, 6):\n",
        "            print(\"¡Gracias por adquirir un\", nombre_autos[eleccion])\n",
        "            pregunta = input(\"¿Seguir comprando? SI o NO: \")\n",
        "            if pregunta == \"NO\" or pregunta == \"no\":\n",
        "                print(\"¡Gracias por su compra!\")\n",
        "                break\n",
        "        elif eleccion == 0:\n",
        "            continue\n",
        "        else:\n",
        "            print(\"Opción no válida, por favor vuelva a comprar.\")\n",
        "    elif compra == 'usados':\n",
        "        print(\"Opciones disponibles de autos usados:\")\n",
        "        for auto_id, auto_info in autos_usados.items():\n",
        "            print(f\"{auto_id}: {auto_info['marca']} {auto_info['modelo']} - Año {auto_info['año']} - {auto_info['km']} km - Tipo: {auto_info['tipo']} - Precio: {auto_info['precio']}\")\n",
        "        eleccion = int(input(\"Elige el número del Vehículos que deseas comprar o ingrea 0 para regresar al menú de compra: \"))\n",
        "        if eleccion in (1, 2, 3, 4, 5, 6):\n",
        "            print(\"¡Gracias por adquirir un\", nombre_autos_usados[eleccion])\n",
        "            pregunta = input(\"¿Seguir comprando? SI o NO: \")\n",
        "            if pregunta == \"NO\" or pregunta == \"no\":\n",
        "                print(\"¡Gracias por su compra!\")\n",
        "                break\n",
        "        elif eleccion == 0:\n",
        "            continue\n",
        "        else:\n",
        "            print(\"Opción no válida, por favor vuelva a comprar.\")\n",
        "    elif compra == 'salir':\n",
        "        print(\"Gracias por visitar el Concesionario de Autos. ¡Hasta luego!\")\n",
        "        break\n",
        "    else:\n",
        "        print(\"Opción no válida. Por favor, elige 'nuevos' o 'usados'.\")"
      ]
    }
  ]
}